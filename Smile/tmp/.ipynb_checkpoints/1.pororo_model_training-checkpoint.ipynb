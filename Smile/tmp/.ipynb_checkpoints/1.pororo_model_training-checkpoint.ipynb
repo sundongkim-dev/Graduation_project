{
 "cells": [
  {
   "cell_type": "code",
   "execution_count": 4,
   "metadata": {},
   "outputs": [
    {
     "name": "stdout",
     "output_type": "stream",
     "text": [
      "c:\\Users\\mok03\\졸업 프로젝트\\pororo\n"
     ]
    }
   ],
   "source": []
  },
  {
   "cell_type": "markdown",
   "metadata": {},
   "source": [
    "# Primary imports"
   ]
  },
  {
   "cell_type": "code",
   "execution_count": 8,
   "metadata": {},
   "outputs": [
    {
     "name": "stdout",
     "output_type": "stream",
     "text": [
      "0.7.0\n"
     ]
    }
   ],
   "source": [
    "import torchvision\n",
    "\n",
    "print(torchvision.__version__)"
   ]
  },
  {
   "cell_type": "code",
   "execution_count": null,
   "metadata": {},
   "outputs": [],
   "source": []
  },
  {
   "cell_type": "code",
   "execution_count": 1,
   "metadata": {},
   "outputs": [
    {
     "name": "stdout",
     "output_type": "stream",
     "text": [
      " C ����̺��� �������� �̸��� �����ϴ�.\n",
      " ���� �Ϸ� ��ȣ: 02EE-FC05\n",
      "\n",
      " c:\\Users\\mok03\\���� ������Ʈ\\tmp ���͸�\n",
      "\n",
      "2022-09-10  ���� 11:23    <DIR>          .\n",
      "2022-09-10  ���� 11:23    <DIR>          ..\n",
      "2022-09-07  ���� 08:58    <DIR>          __pycache__\n",
      "2022-09-19  ���� 10:09           205,070 0.Dataset_Analysis.ipynb\n",
      "2022-09-12  ���� 09:48             1,082 1.pororo_model_training.ipynb\n",
      "2022-09-19  ���� 10:09            38,887 KOBERT sample.ipynb\n",
      "2022-05-20  ���� 04:02            10,056 KOBERT sample.py\n",
      "2022-09-19  ���� 10:09            11,478 train.ipynb\n",
      "2022-09-19  ���� 10:09           123,464 train_using_koBERT.ipynb\n",
      "2022-09-19  ���� 10:09            37,507 train_using_Pororo.ipynb\n",
      "2022-09-07  ���� 08:58               394 variables.py\n",
      "               8�� ����             427,938 ����Ʈ\n",
      "               3�� ���͸�  590,181,101,568 ����Ʈ ����\n"
     ]
    }
   ],
   "source": [
    "ls"
   ]
  },
  {
   "cell_type": "code",
   "execution_count": 6,
   "metadata": {},
   "outputs": [
    {
     "name": "stdout",
     "output_type": "stream",
     "text": [
      "^C\n",
      "Note: you may need to restart the kernel to use updated packages.\n"
     ]
    }
   ],
   "source": [
    "%pip install -e ."
   ]
  },
  {
   "cell_type": "markdown",
   "metadata": {},
   "source": [
    "# Pororo를 사용해서 word embedding"
   ]
  },
  {
   "cell_type": "code",
   "execution_count": null,
   "metadata": {},
   "outputs": [],
   "source": []
  }
 ],
 "metadata": {
  "kernelspec": {
   "display_name": "Python 3 (ipykernel)",
   "language": "python",
   "name": "python3"
  },
  "language_info": {
   "codemirror_mode": {
    "name": "ipython",
    "version": 3
   },
   "file_extension": ".py",
   "mimetype": "text/x-python",
   "name": "python",
   "nbconvert_exporter": "python",
   "pygments_lexer": "ipython3",
   "version": "3.9.13"
  },
  "vscode": {
   "interpreter": {
    "hash": "2721e60e503f62a81dd7de58d5c19fa5639296865f21d8b07ecb9db479c6dd9e"
   }
  }
 },
 "nbformat": 4,
 "nbformat_minor": 2
}
